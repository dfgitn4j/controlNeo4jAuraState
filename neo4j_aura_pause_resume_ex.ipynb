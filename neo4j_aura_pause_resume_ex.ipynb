{
 "cells": [
  {
   "cell_type": "code",
   "execution_count": 1,
   "outputs": [],
   "source": [
    "from neo4jAuraUtils import *"
   ],
   "metadata": {
    "collapsed": false
   }
  },
  {
   "cell_type": "code",
   "execution_count": 3,
   "outputs": [
    {
     "name": "stdout",
     "output_type": "stream",
     "text": [
      "Using AURA_API, AURA_URL, AURA_TOKEN_URL, AURA_API_CLIENT_ID, AURA_CLIENT_SECRET from test_neo4jConfig.ini file\n",
      "                                    \n",
      "name            [dflavin]gdsCurlTest\n",
      "connection_url                  None\n",
      "status                        paused\n",
      "memory                           NaN\n",
      "info_updated     2023-09-17 12:38:44\n",
      "cloud_provider                   gcp\n",
      "id                          6549c33e\n"
     ]
    }
   ],
   "source": [
    "aura_info = aura_api_connect('test_neo4jConfig.ini')\n",
    "aura_print_inst_info(aura_info) # print relevant info"
   ],
   "metadata": {
    "collapsed": false
   }
  },
  {
   "cell_type": "code",
   "execution_count": null,
   "outputs": [],
   "source": [
    "aura_request_state_change('paused', aura_info)"
   ],
   "metadata": {
    "collapsed": false
   }
  },
  {
   "cell_type": "code",
   "execution_count": null,
   "outputs": [],
   "source": [
    "aura_request_state_change(\"running\", aura_info)"
   ],
   "metadata": {
    "collapsed": false
   }
  },
  {
   "cell_type": "code",
   "execution_count": null,
   "outputs": [],
   "source": [
    "aura_request_state_change(\"running\", aura_info)"
   ],
   "metadata": {
    "collapsed": false
   }
  },
  {
   "cell_type": "code",
   "execution_count": null,
   "outputs": [],
   "source": [
    "aura_request_state_change(\"paused\", aura_info)"
   ],
   "metadata": {
    "collapsed": false
   }
  }
 ],
 "metadata": {
  "kernelspec": {
   "display_name": "Python 3",
   "language": "python",
   "name": "python3"
  },
  "language_info": {
   "codemirror_mode": {
    "name": "ipython",
    "version": 2
   },
   "file_extension": ".py",
   "mimetype": "text/x-python",
   "name": "python",
   "nbconvert_exporter": "python",
   "pygments_lexer": "ipython2",
   "version": "2.7.6"
  }
 },
 "nbformat": 4,
 "nbformat_minor": 0
}
