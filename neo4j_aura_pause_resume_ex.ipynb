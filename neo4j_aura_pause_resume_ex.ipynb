{
 "cells": [
  {
   "cell_type": "code",
   "execution_count": 6,
   "outputs": [],
   "source": [
    "from neo4jAuraUtils import *"
   ],
   "metadata": {
    "collapsed": false
   }
  },
  {
   "cell_type": "code",
   "execution_count": 7,
   "outputs": [
    {
     "name": "stdout",
     "output_type": "stream",
     "text": [
      "Using AURA_API, AURA_URL, AURA_TOKEN_URL, AURA_API_CLIENT_ID, AURA_CLIENT_SECRET from neo4jConfig.ini file\n",
      "                                    \n",
      "name            [dflavin]gdsCurlTest\n",
      "connection_url                  None\n",
      "status                        paused\n",
      "memory                           NaN\n",
      "info_updated     2023-09-13 10:44:05\n",
      "cloud_provider                   gcp\n",
      "id                          6549c33e\n"
     ]
    }
   ],
   "source": [
    "aura_info = aura_api_connect()\n",
    "aura_print_inst_info(aura_info) # print relevant info"
   ],
   "metadata": {
    "collapsed": false
   }
  },
  {
   "cell_type": "code",
   "execution_count": 8,
   "outputs": [
    {
     "name": "stdout",
     "output_type": "stream",
     "text": [
      "Instance '[dflavin]gdsCurlTest' (id: '6549c33e') is already 'paused'.\n"
     ]
    }
   ],
   "source": [
    "aura_request_state_change('paused', aura_info)"
   ],
   "metadata": {
    "collapsed": false
   }
  },
  {
   "cell_type": "code",
   "execution_count": 9,
   "outputs": [
    {
     "name": "stdout",
     "output_type": "stream",
     "text": [
      "2023-09-13 10:44:07 : Requesting changing Aura instances for instance '[dflavin]gdsCurlTest' (id: '6549c33e') state from 'paused' to 'running'.................\n",
      "2023-09-13 10:45:46 : Instance state for instance '[dflavin]gdsCurlTest' (id: '6549c33e') is now 'running'\n",
      "Elapsed time to change state 00:01:39\n"
     ]
    }
   ],
   "source": [
    "aura_request_state_change(\"running\", aura_info)"
   ],
   "metadata": {
    "collapsed": false
   }
  },
  {
   "cell_type": "code",
   "execution_count": 10,
   "outputs": [
    {
     "name": "stdout",
     "output_type": "stream",
     "text": [
      "Instance '[dflavin]gdsCurlTest' (id: '6549c33e') is already 'running'.\n"
     ]
    }
   ],
   "source": [
    "aura_request_state_change(\"running\", aura_info)"
   ],
   "metadata": {
    "collapsed": false
   }
  },
  {
   "cell_type": "code",
   "execution_count": 11,
   "outputs": [
    {
     "name": "stdout",
     "output_type": "stream",
     "text": [
      "2023-09-13 10:45:47 : Requesting changing Aura instances for instance '[dflavin]gdsCurlTest' (id: '6549c33e') state from 'running' to 'paused'...............\n",
      "2023-09-13 10:47:16 : Instance state for instance '[dflavin]gdsCurlTest' (id: '6549c33e') is now 'paused'\n",
      "Elapsed time to change state 00:01:28\n"
     ]
    }
   ],
   "source": [
    "aura_request_state_change(\"paused\", aura_info)"
   ],
   "metadata": {
    "collapsed": false
   }
  }
 ],
 "metadata": {
  "kernelspec": {
   "display_name": "Python 3",
   "language": "python",
   "name": "python3"
  },
  "language_info": {
   "codemirror_mode": {
    "name": "ipython",
    "version": 2
   },
   "file_extension": ".py",
   "mimetype": "text/x-python",
   "name": "python",
   "nbconvert_exporter": "python",
   "pygments_lexer": "ipython2",
   "version": "2.7.6"
  }
 },
 "nbformat": 4,
 "nbformat_minor": 0
}
