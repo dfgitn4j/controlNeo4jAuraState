{
 "cells": [
  {
   "cell_type": "code",
   "execution_count": 3,
   "outputs": [],
   "source": [
    "from neo4jAuraUtils import *"
   ],
   "metadata": {
    "collapsed": false
   }
  },
  {
   "cell_type": "code",
   "execution_count": 5,
   "outputs": [
    {
     "name": "stdout",
     "output_type": "stream",
     "text": [
      "Using AURA_API, AURA_URL, AURA_TOKEN_URL, AURA_API_CLIENT_ID, AURA_CLIENT_SECRET from test_neo4jConfig.ini file\n",
      "                                                     \n",
      "name                   [dflavin]controlNeo4jAuraState\n",
      "connection_url  neo4j+s://a5162164.databases.neo4j.io\n",
      "status                                        running\n",
      "memory                                            8GB\n",
      "info_updated                      2023-10-09 10:47:08\n",
      "cloud_provider                                    gcp\n",
      "id                                           a5162164\n"
     ]
    }
   ],
   "source": [
    "aura_info = aura_api_connect('test_neo4jConfig.ini') # default is neo4jConfig.ini\n",
    "aura_print_inst_info(aura_info) # print relevant info"
   ],
   "metadata": {
    "collapsed": false
   }
  },
  {
   "cell_type": "code",
   "execution_count": 6,
   "outputs": [
    {
     "name": "stdout",
     "output_type": "stream",
     "text": [
      "2023-10-09 10:47:30 : Requesting changing Aura instances for instance '[dflavin]controlNeo4jAuraState' (id: 'a5162164') state from 'running' to 'paused'...............\n",
      "2023-10-09 10:49:05 : Instance state for instance '[dflavin]controlNeo4jAuraState' (id: 'a5162164') is now 'paused'\n",
      "Elapsed time to change state 00:01:35\n"
     ]
    }
   ],
   "source": [
    "aura_request_state_change('paused', aura_info)"
   ],
   "metadata": {
    "collapsed": false
   }
  },
  {
   "cell_type": "code",
   "execution_count": 7,
   "outputs": [
    {
     "name": "stdout",
     "output_type": "stream",
     "text": [
      "2023-10-09 10:52:02 : Requesting changing Aura instances for instance '[dflavin]controlNeo4jAuraState' (id: 'a5162164') state from 'paused' to 'running'..................\n",
      "2023-10-09 10:53:47 : Instance state for instance '[dflavin]controlNeo4jAuraState' (id: 'a5162164') is now 'running'\n",
      "Elapsed time to change state 00:01:44\n"
     ]
    }
   ],
   "source": [
    "aura_request_state_change(\"running\", aura_info)"
   ],
   "metadata": {
    "collapsed": false
   }
  },
  {
   "cell_type": "code",
   "execution_count": 8,
   "outputs": [
    {
     "name": "stdout",
     "output_type": "stream",
     "text": [
      "Instance '[dflavin]controlNeo4jAuraState' (id: 'a5162164') is already 'running'.\n"
     ]
    }
   ],
   "source": [
    "aura_request_state_change(\"running\", aura_info)"
   ],
   "metadata": {
    "collapsed": false
   }
  },
  {
   "cell_type": "code",
   "execution_count": 9,
   "outputs": [
    {
     "name": "stdout",
     "output_type": "stream",
     "text": [
      "2023-10-09 10:54:06 : Requesting changing Aura instances for instance '[dflavin]controlNeo4jAuraState' (id: 'a5162164') state from 'running' to 'paused'................\n",
      "2023-10-09 10:55:39 : Instance state for instance '[dflavin]controlNeo4jAuraState' (id: 'a5162164') is now 'paused'\n",
      "Elapsed time to change state 00:01:33\n"
     ]
    }
   ],
   "source": [
    "aura_request_state_change(\"paused\", aura_info)"
   ],
   "metadata": {
    "collapsed": false
   }
  },
  {
   "cell_type": "code",
   "execution_count": 10,
   "outputs": [
    {
     "name": "stdout",
     "output_type": "stream",
     "text": [
      "Instance '[dflavin]controlNeo4jAuraState' (id: 'a5162164') is already 'paused'.\n"
     ]
    }
   ],
   "source": [
    "aura_request_state_change(\"paused\", aura_info)"
   ],
   "metadata": {
    "collapsed": false
   }
  },
  {
   "cell_type": "code",
   "execution_count": null,
   "outputs": [],
   "source": [],
   "metadata": {
    "collapsed": false
   }
  }
 ],
 "metadata": {
  "kernelspec": {
   "display_name": "Python 3",
   "language": "python",
   "name": "python3"
  },
  "language_info": {
   "codemirror_mode": {
    "name": "ipython",
    "version": 2
   },
   "file_extension": ".py",
   "mimetype": "text/x-python",
   "name": "python",
   "nbconvert_exporter": "python",
   "pygments_lexer": "ipython2",
   "version": "2.7.6"
  }
 },
 "nbformat": 4,
 "nbformat_minor": 0
}
